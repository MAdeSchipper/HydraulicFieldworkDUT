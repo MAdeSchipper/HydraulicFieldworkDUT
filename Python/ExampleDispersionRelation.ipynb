{
 "cells": [
  {
   "cell_type": "code",
   "execution_count": null,
   "metadata": {
    "collapsed": true
   },
   "outputs": [],
   "source": [
    "# Simple example showing how to obtain the wavelength for a given wave period and waterdepth"
   ]
  },
  {
   "cell_type": "code",
   "execution_count": 16,
   "metadata": {
    "collapsed": true
   },
   "outputs": [],
   "source": [
    "import math"
   ]
  },
  {
   "cell_type": "code",
   "execution_count": 18,
   "metadata": {
    "collapsed": false
   },
   "outputs": [],
   "source": [
    "## Example\n",
    "T=10 # wave period in [s]\n",
    "h=10 # Waterdepth\n",
    "\n",
    "w=2*math.pi/T  # Calculation of the angular frequency omega"
   ]
  },
  {
   "cell_type": "code",
   "execution_count": null,
   "metadata": {
    "collapsed": true
   },
   "outputs": [],
   "source": []
  },
  {
   "cell_type": "code",
   "execution_count": 17,
   "metadata": {
    "collapsed": false
   },
   "outputs": [],
   "source": [
    "# Quick iterative calculation of kh in gravity-wave dispersion\n",
    "#    kh = qkhfs(w, h ) \n",
    "#     Input\n",
    "#        w - angular wave frequency = 2*pi/T where T = wave period [1/s]\n",
    "#         h - water depth [m]\n",
    "#     Returns\n",
    "#         kh - wavenumber * depth [ ]\n",
    "#     Orbital velocities from kh are accurate to 3e-12 !\n",
    "#     RL Soulsby (2006) \\\"Simplified calculation of wave orbital velocities\\\"\n",
    "#     HR Wallingford Report TR 155, February 2006\n",
    "#     Eqns. 12a - 14\n",
    "     \n",
    "#    more info\n",
    "#      Patricia L. Wiberg, Christopher R. Sherwood, Calculating wave-generated\n",
    "# bottom orbital velocities from surface-wave parameters, Computers &\n",
    "# Geosciences, Volume 34, Issue 10, October 2008, Pages 1243-1262, ISSN\n",
    "# 0098-3004, \n",
    "# http://dx.doi.org/10.1016/j.cageo.2008.02.010\n",
    "    \n",
    "g = 9.81\n",
    "\n",
    "x = w**2.0 *h/g\n",
    "y = math.sqrt(x) * (x<1.) + x *(x>=1.)\n",
    "   # is this appalling code faster than a loop in Python? It is in Matlab.\n",
    "t = math.tanh( y )\n",
    "y = y-( (y*t -x)/(t+y*(1.0-t**2.0)))\n",
    "t = math.tanh( y )\n",
    "y = y-( (y*t -x)/(t+y*(1.0-t**2.0)))\n",
    "t = math.tanh( y )\n",
    "y = y-( (y*t -x)/(t+y*(1.0-t**2.0)))\n",
    "kh = y\n"
   ]
  },
  {
   "cell_type": "code",
   "execution_count": null,
   "metadata": {
    "collapsed": true
   },
   "outputs": [],
   "source": []
  },
  {
   "cell_type": "code",
   "execution_count": null,
   "metadata": {
    "collapsed": true
   },
   "outputs": [],
   "source": []
  }
 ],
 "metadata": {
  "anaconda-cloud": {},
  "kernelspec": {
   "display_name": "Python [default]",
   "language": "python",
   "name": "python3"
  },
  "language_info": {
   "codemirror_mode": {
    "name": "ipython",
    "version": 3
   },
   "file_extension": ".py",
   "mimetype": "text/x-python",
   "name": "python",
   "nbconvert_exporter": "python",
   "pygments_lexer": "ipython3",
   "version": "3.5.2"
  }
 },
 "nbformat": 4,
 "nbformat_minor": 1
}
